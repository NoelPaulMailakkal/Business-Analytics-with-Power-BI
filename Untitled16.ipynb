{
  "nbformat": 4,
  "nbformat_minor": 0,
  "metadata": {
    "colab": {
      "provenance": [],
      "authorship_tag": "ABX9TyNrzjycnmrvk1ePdYexJ4pY",
      "include_colab_link": true
    },
    "kernelspec": {
      "name": "python3",
      "display_name": "Python 3"
    },
    "language_info": {
      "name": "python"
    }
  },
  "cells": [
    {
      "cell_type": "markdown",
      "metadata": {
        "id": "view-in-github",
        "colab_type": "text"
      },
      "source": [
        "<a href=\"https://colab.research.google.com/github/NoelPaulMailakkal/Business-Analytics-with-Power-BI/blob/main/Untitled16.ipynb\" target=\"_parent\"><img src=\"https://colab.research.google.com/assets/colab-badge.svg\" alt=\"Open In Colab\"/></a>"
      ]
    },
    {
      "cell_type": "code",
      "execution_count": 10,
      "metadata": {
        "colab": {
          "base_uri": "https://localhost:8080/"
        },
        "id": "X_euitcAUfQ4",
        "outputId": "7553e336-701a-4ce6-e0eb-60b1677a8035"
      },
      "outputs": [
        {
          "name": "stdout",
          "output_type": "stream",
          "text": [
            "enter actual hra r/c monthly from employer12345678\n",
            "enter your actual rent paid monthly by the employee:87654321\n",
            "enter your basic sal: 9952462\n"
          ]
        }
      ],
      "source": [
        "hra=int(input(\"enter actual hra r/c monthly from employer\"))\n",
        "ar=int(input(\"enter your actual rent paid monthly by the employee:\"))\n",
        "bsal=int(input(\"enter your basic sal: \"))"
      ]
    },
    {
      "cell_type": "code",
      "source": [
        "r1=hra*12\n",
        "r2=ar*12-((bsal*12)*50/100)\n",
        "r3=(bsal*12)*50/100"
      ],
      "metadata": {
        "id": "p6eRNeODWn0s"
      },
      "execution_count": 11,
      "outputs": []
    },
    {
      "cell_type": "code",
      "source": [
        "a=[r1,r2,r3]\n",
        "p=min(a)\n",
        "print(\"you are eligable for hra exemption\",p)"
      ],
      "metadata": {
        "colab": {
          "base_uri": "https://localhost:8080/"
        },
        "id": "ebGxWnqPYJtc",
        "outputId": "b6e767aa-01b5-4bb4-e66d-623c55500cef"
      },
      "execution_count": 12,
      "outputs": [
        {
          "output_type": "stream",
          "name": "stdout",
          "text": [
            "you are eligable for hra exemption 59714772.0\n"
          ]
        }
      ]
    },
    {
      "cell_type": "code",
      "source": [],
      "metadata": {
        "id": "6XIYg9HugIQJ"
      },
      "execution_count": null,
      "outputs": []
    }
  ]
}